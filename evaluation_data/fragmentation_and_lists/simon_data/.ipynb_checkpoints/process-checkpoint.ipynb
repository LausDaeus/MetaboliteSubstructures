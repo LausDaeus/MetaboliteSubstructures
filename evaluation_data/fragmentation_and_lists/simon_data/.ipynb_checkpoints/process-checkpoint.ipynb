{
 "cells": [
  {
   "cell_type": "code",
   "execution_count": 42,
   "metadata": {
    "collapsed": false
   },
   "outputs": [],
   "source": [
    "class Peak(object):\n",
    "    def __init__(self,id,mz,rt,intensity,level):\n",
    "        self.id = id\n",
    "        self.mz = mz\n",
    "        self.rt = rt\n",
    "        self.level = level\n",
    "        self.intensity = intensity\n",
    "        self.children = []\n",
    "        self.parent = None"
   ]
  },
  {
   "cell_type": "code",
   "execution_count": 43,
   "metadata": {
    "collapsed": true
   },
   "outputs": [],
   "source": [
    "ms1name = '/Users/simon/Dropbox/MS2LDA Manuscript Sections/Matrices/Beer3pos_MS1filter_Method3_ms1.csv'\n",
    "ms2name = '/Users/simon/Dropbox/MS2LDA Manuscript Sections/Matrices/Beer3pos_MS1filter_Method3_ms2.csv'\n",
    "ms1peaks = {}\n",
    "ms2peaks = []\n",
    "with open(ms1name,'r') as f:\n",
    "\theads = f.readline()\n",
    "\tfor line in f:\n",
    "\t\tsline = line.split(',')\n",
    "\t\tms1peaks[str(sline[1])] = Peak(int(sline[1]),float(sline[5]),float(sline[4]),float(sline[6]),int(sline[3]))\n",
    "\n",
    "with open(ms2name,'r') as f:\n",
    "\theads = f.readline()\n",
    "\tfor line in f:\n",
    "\t\tsline = line.split(',')\n",
    "\t\tparentid = str(sline[2])\n",
    "\t\tparent = ms1peaks[parentid]\n",
    "\t\tnewpeak = Peak(int(sline[1]),float(sline[5]),float(sline[4]),float(sline[6]),int(sline[3]))\n",
    "\t\tparent.children.append(newpeak)\n",
    "\t\tnewpeak.parent = parent\n",
    "\t\tms2peaks.append(newpeak)\n",
    "\n",
    "\n",
    "\n",
    "\n"
   ]
  },
  {
   "cell_type": "code",
   "execution_count": 44,
   "metadata": {
    "collapsed": false
   },
   "outputs": [
    {
     "name": "stdout",
     "output_type": "stream",
     "text": [
      "Loaded 1422 MS1 and 27128 MS2 peaks\n"
     ]
    }
   ],
   "source": [
    "print \"Loaded {} MS1 and {} MS2 peaks\".format(len(ms1peaks),len(ms2peaks))"
   ]
  },
  {
   "cell_type": "code",
   "execution_count": 62,
   "metadata": {
    "collapsed": false
   },
   "outputs": [],
   "source": [
    "import numpy as np\n",
    "def mass_hit(mz1,mz2,tol):\n",
    "    if 1e6*np.abs(mz1-mz2)/mz1 < tol:\n",
    "        return True\n",
    "    else:\n",
    "        return False\n",
    "\n",
    "def rt_hit(rt1,rt2,tol):\n",
    "    if np.abs(rt1-rt2) < tol:\n",
    "        return True\n",
    "    else:\n",
    "        return False\n",
    "    \n",
    "to_find = [(314.14,269.69,'both')]\n",
    "for mz,rt,prefix in to_find:\n",
    "    hits = []\n",
    "    for pid in ms1peaks:\n",
    "        if mass_hit(mz,ms1peaks[pid].mz,5) and rt_hit(rt,ms1peaks[pid].rt,0.1):\n",
    "            hits.append((pid,np.abs(mz-ms1peaks[pid].mz)))\n",
    "            if len(hits) > 1:\n",
    "                print \"ARGH\"\n",
    "            else:\n",
    "                fname = prefix + \"_\" + str(ms1peaks[pid].mz) + \"_\" + str(ms1peaks[pid].rt) + \".txt\"\n",
    "                with open(fname,'w') as f:\n",
    "                    for child in ms1peaks[pid].children:\n",
    "                        f.write(\"\" + str(child.mz) + \",\" + str(child.intensity) + \"\\n\")\n",
    "                \n",
    "    "
   ]
  },
  {
   "cell_type": "code",
   "execution_count": null,
   "metadata": {
    "collapsed": true
   },
   "outputs": [],
   "source": []
  },
  {
   "cell_type": "code",
   "execution_count": null,
   "metadata": {
    "collapsed": true
   },
   "outputs": [],
   "source": []
  }
 ],
 "metadata": {
  "kernelspec": {
   "display_name": "Python 2",
   "language": "python",
   "name": "python2"
  },
  "language_info": {
   "codemirror_mode": {
    "name": "ipython",
    "version": 2
   },
   "file_extension": ".py",
   "mimetype": "text/x-python",
   "name": "python",
   "nbconvert_exporter": "python",
   "pygments_lexer": "ipython2",
   "version": "2.7.11"
  }
 },
 "nbformat": 4,
 "nbformat_minor": 0
}
